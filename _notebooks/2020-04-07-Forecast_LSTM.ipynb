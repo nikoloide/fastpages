{
 "cells": [
  {
   "cell_type": "markdown",
   "metadata": {},
   "source": [
    "# Forecast_LSTM\n",
    "\n",
    "> Proyección de casos confirmados en Argentina\n",
    "- toc: true\n",
    "- branch: master\n",
    "- badges: true\n",
    "- comments: false\n",
    "- author: Nicolas Santilli\n",
    "- description: Time Series Forecast LSTM\n",
    "- image: https://www.altumintelligence.com/assets/time-series-prediction-using-lstm-deep-neural-networks/lstm_cell.png"
   ]
  },
  {
   "cell_type": "code",
   "execution_count": 96,
   "metadata": {},
   "outputs": [],
   "source": [
    "#hide\n",
    "import numpy as np\n",
    "import pandas as pd\n",
    "import matplotlib.pyplot as plt\n",
    "%matplotlib inline\n",
    "from statsmodels.tools.eval_measures import rmse\n",
    "from sklearn.preprocessing import MinMaxScaler\n",
    "from keras.preprocessing.sequence import TimeseriesGenerator\n",
    "from keras.models import Sequential\n",
    "from keras.layers import Dense\n",
    "from keras.layers import LSTM\n",
    "from keras.layers import Dropout\n",
    "import warnings\n",
    "warnings.filterwarnings(\"ignore\")\n",
    "\n",
    "#df = pd.read_csv('AirPassengers.csv')\n",
    "df_day = pd.read_csv(\"https://raw.githubusercontent.com/CSSEGISandData/COVID-19/web-data/data/cases_country.csv\")\n",
    "data = pd.read_csv(\"https://raw.githubusercontent.com/CSSEGISandData/COVID-19/web-data/data/cases_time.csv\")\n",
    "df_day = df_day[df_day['Country_Region'] == 'Argentina']\n",
    "data = data[data['Country_Region'] == 'Argentina']\n",
    "df_day = df_day[['Last_Update', 'Confirmed']]\n",
    "data = data[['Last_Update', 'Confirmed']]\n",
    "data = data[data['Confirmed'] > 0]\n",
    "df = pd.concat([data, df_day])"
   ]
  },
  {
   "cell_type": "code",
   "execution_count": 97,
   "metadata": {},
   "outputs": [],
   "source": [
    "#hide\n",
    "df.Last_Update = pd.to_datetime(df.Last_Update)\n",
    "df = df.set_index(\"Last_Update\")"
   ]
  },
  {
   "cell_type": "code",
   "execution_count": 98,
   "metadata": {},
   "outputs": [],
   "source": [
    "#hide\n",
    "n_input = 6\n",
    "train, test = df[:-n_input], df[-n_input:]"
   ]
  },
  {
   "cell_type": "code",
   "execution_count": 99,
   "metadata": {},
   "outputs": [],
   "source": [
    "#hide\n",
    "scaler = MinMaxScaler()\n",
    "scaler.fit(train)\n",
    "train = scaler.transform(train)\n",
    "test = scaler.transform(test)"
   ]
  },
  {
   "cell_type": "code",
   "execution_count": 161,
   "metadata": {},
   "outputs": [],
   "source": [
    "#hide\n",
    "n_input = n_input\n",
    "n_features = 1\n",
    "generator = TimeseriesGenerator(train, train, length=n_input, batch_size=6)"
   ]
  },
  {
   "cell_type": "markdown",
   "metadata": {},
   "source": [
    "### Time-Series Prediction - LSTM"
   ]
  },
  {
   "cell_type": "code",
   "execution_count": 188,
   "metadata": {},
   "outputs": [
    {
     "name": "stdout",
     "output_type": "stream",
     "text": [
      "_________________________________________________________________\n",
      "Layer (type)                 Output Shape              Param #   \n",
      "=================================================================\n",
      "lstm_10 (LSTM)               (None, 200)               161600    \n",
      "_________________________________________________________________\n",
      "dropout_10 (Dropout)         (None, 200)               0         \n",
      "_________________________________________________________________\n",
      "dense_10 (Dense)             (None, 1)                 201       \n",
      "=================================================================\n",
      "Total params: 161,801\n",
      "Trainable params: 161,801\n",
      "Non-trainable params: 0\n",
      "_________________________________________________________________\n"
     ]
    }
   ],
   "source": [
    "#hide_input\n",
    "model = Sequential()\n",
    "model.add(LSTM(200, activation='relu', input_shape=(n_input, n_features)))\n",
    "model.add(Dropout(0.15))\n",
    "model.add(Dense(1))\n",
    "model.compile(optimizer='adam', loss='mse')\n",
    "\n",
    "model.summary()"
   ]
  },
  {
   "cell_type": "code",
   "execution_count": 190,
   "metadata": {
    "scrolled": true
   },
   "outputs": [
    {
     "name": "stdout",
     "output_type": "stream",
     "text": [
      "Epoch 1/90\n",
      "5/5 [==============================] - 3s 516ms/step - loss: 0.1971\n",
      "Epoch 2/90\n",
      "5/5 [==============================] - 0s 19ms/step - loss: 0.1490\n",
      "Epoch 3/90\n",
      "5/5 [==============================] - 0s 51ms/step - loss: 0.0977\n",
      "Epoch 4/90\n",
      "5/5 [==============================] - 0s 12ms/step - loss: 0.0689\n",
      "Epoch 5/90\n",
      "5/5 [==============================] - 0s 52ms/step - loss: 0.0381\n",
      "Epoch 6/90\n",
      "5/5 [==============================] - 0s 38ms/step - loss: 0.0262\n",
      "Epoch 7/90\n",
      "5/5 [==============================] - 0s 36ms/step - loss: 0.0177\n",
      "Epoch 8/90\n",
      "5/5 [==============================] - 0s 17ms/step - loss: 0.0162\n",
      "Epoch 9/90\n",
      "5/5 [==============================] - 0s 44ms/step - loss: 0.0143\n",
      "Epoch 10/90\n",
      "5/5 [==============================] - 0s 16ms/step - loss: 0.0061\n",
      "Epoch 11/90\n",
      "5/5 [==============================] - 0s 37ms/step - loss: 0.0037\n",
      "Epoch 12/90\n",
      "5/5 [==============================] - 0s 21ms/step - loss: 0.0039\n",
      "Epoch 13/90\n",
      "5/5 [==============================] - 0s 50ms/step - loss: 0.0051\n",
      "Epoch 14/90\n",
      "5/5 [==============================] - 0s 39ms/step - loss: 0.0049\n",
      "Epoch 15/90\n",
      "5/5 [==============================] - 0s 37ms/step - loss: 0.0027\n",
      "Epoch 16/90\n",
      "5/5 [==============================] - 0s 16ms/step - loss: 0.0032\n",
      "Epoch 17/90\n",
      "5/5 [==============================] - 0s 47ms/step - loss: 0.0038\n",
      "Epoch 18/90\n",
      "5/5 [==============================] - 0s 30ms/step - loss: 0.0035\n",
      "Epoch 19/90\n",
      "5/5 [==============================] - 0s 39ms/step - loss: 0.0040\n",
      "Epoch 20/90\n",
      "5/5 [==============================] - 0s 25ms/step - loss: 0.0038\n",
      "Epoch 21/90\n",
      "5/5 [==============================] - 0s 46ms/step - loss: 0.0020\n",
      "Epoch 22/90\n",
      "5/5 [==============================] - 0s 18ms/step - loss: 0.0022\n",
      "Epoch 23/90\n",
      "5/5 [==============================] - 0s 41ms/step - loss: 0.0021\n",
      "Epoch 24/90\n",
      "5/5 [==============================] - 0s 14ms/step - loss: 0.0056\n",
      "Epoch 25/90\n",
      "5/5 [==============================] - 0s 39ms/step - loss: 0.0037\n",
      "Epoch 26/90\n",
      "5/5 [==============================] - 0s 26ms/step - loss: 0.0021\n",
      "Epoch 27/90\n",
      "5/5 [==============================] - 0s 35ms/step - loss: 0.0015\n",
      "Epoch 28/90\n",
      "5/5 [==============================] - 0s 24ms/step - loss: 0.0012\n",
      "Epoch 29/90\n",
      "5/5 [==============================] - 0s 48ms/step - loss: 0.0022\n",
      "Epoch 30/90\n",
      "5/5 [==============================] - 0s 13ms/step - loss: 0.0020\n",
      "Epoch 31/90\n",
      "5/5 [==============================] - 0s 47ms/step - loss: 0.0016\n",
      "Epoch 32/90\n",
      "5/5 [==============================] - 0s 11ms/step - loss: 0.0014\n",
      "Epoch 33/90\n",
      "5/5 [==============================] - 0s 37ms/step - loss: 0.0027\n",
      "Epoch 34/90\n",
      "5/5 [==============================] - 0s 22ms/step - loss: 0.0019\n",
      "Epoch 35/90\n",
      "5/5 [==============================] - 0s 38ms/step - loss: 0.0013\n",
      "Epoch 36/90\n",
      "5/5 [==============================] - 0s 25ms/step - loss: 0.0020\n",
      "Epoch 37/90\n",
      "5/5 [==============================] - 0s 51ms/step - loss: 0.0011\n",
      "Epoch 38/90\n",
      "5/5 [==============================] - 0s 35ms/step - loss: 0.0018\n",
      "Epoch 39/90\n",
      "5/5 [==============================] - 0s 37ms/step - loss: 0.0021\n",
      "Epoch 40/90\n",
      "5/5 [==============================] - 0s 19ms/step - loss: 9.7271e-04\n",
      "Epoch 41/90\n",
      "5/5 [==============================] - 0s 41ms/step - loss: 0.0025\n",
      "Epoch 42/90\n",
      "5/5 [==============================] - 0s 16ms/step - loss: 0.0018\n",
      "Epoch 43/90\n",
      "5/5 [==============================] - 0s 49ms/step - loss: 0.0017\n",
      "Epoch 44/90\n",
      "5/5 [==============================] - 0s 15ms/step - loss: 0.0019\n",
      "Epoch 45/90\n",
      "5/5 [==============================] - 0s 47ms/step - loss: 0.0018\n",
      "Epoch 46/90\n",
      "5/5 [==============================] - 0s 12ms/step - loss: 9.1800e-04\n",
      "Epoch 47/90\n",
      "5/5 [==============================] - 0s 45ms/step - loss: 0.0023\n",
      "Epoch 48/90\n",
      "5/5 [==============================] - 0s 17ms/step - loss: 0.0011\n",
      "Epoch 49/90\n",
      "5/5 [==============================] - 0s 48ms/step - loss: 0.0011\n",
      "Epoch 50/90\n",
      "5/5 [==============================] - 0s 14ms/step - loss: 0.0015\n",
      "Epoch 51/90\n",
      "5/5 [==============================] - 0s 42ms/step - loss: 0.0016\n",
      "Epoch 52/90\n",
      "5/5 [==============================] - 0s 11ms/step - loss: 7.3815e-04\n",
      "Epoch 53/90\n",
      "5/5 [==============================] - 0s 48ms/step - loss: 0.0018\n",
      "Epoch 54/90\n",
      "5/5 [==============================] - 0s 18ms/step - loss: 0.0010\n",
      "Epoch 55/90\n",
      "5/5 [==============================] - 0s 37ms/step - loss: 0.0012\n",
      "Epoch 56/90\n",
      "5/5 [==============================] - 0s 27ms/step - loss: 0.0016\n",
      "Epoch 57/90\n",
      "5/5 [==============================] - 0s 34ms/step - loss: 0.0015\n",
      "Epoch 58/90\n",
      "5/5 [==============================] - 0s 18ms/step - loss: 0.0033\n",
      "Epoch 59/90\n",
      "5/5 [==============================] - 0s 52ms/step - loss: 0.0012\n",
      "Epoch 60/90\n",
      "5/5 [==============================] - 0s 30ms/step - loss: 8.5730e-04\n",
      "Epoch 61/90\n",
      "5/5 [==============================] - 0s 48ms/step - loss: 0.0012\n",
      "Epoch 62/90\n",
      "5/5 [==============================] - 0s 12ms/step - loss: 0.0025\n",
      "Epoch 63/90\n",
      "5/5 [==============================] - 0s 38ms/step - loss: 0.0010\n",
      "Epoch 64/90\n",
      "5/5 [==============================] - 0s 22ms/step - loss: 0.0019\n",
      "Epoch 65/90\n",
      "5/5 [==============================] - 0s 50ms/step - loss: 0.0021\n",
      "Epoch 66/90\n",
      "5/5 [==============================] - 0s 15ms/step - loss: 0.0012\n",
      "Epoch 67/90\n",
      "5/5 [==============================] - 0s 35ms/step - loss: 0.0018\n",
      "Epoch 68/90\n",
      "5/5 [==============================] - 0s 32ms/step - loss: 0.0017\n",
      "Epoch 69/90\n",
      "5/5 [==============================] - 0s 26ms/step - loss: 3.9284e-04\n",
      "Epoch 70/90\n",
      "5/5 [==============================] - 0s 23ms/step - loss: 0.0015\n",
      "Epoch 71/90\n",
      "5/5 [==============================] - 0s 45ms/step - loss: 0.0019\n",
      "Epoch 72/90\n",
      "5/5 [==============================] - 0s 18ms/step - loss: 0.0019\n",
      "Epoch 73/90\n",
      "5/5 [==============================] - 0s 46ms/step - loss: 8.6200e-04\n",
      "Epoch 74/90\n",
      "5/5 [==============================] - 0s 13ms/step - loss: 8.3625e-04\n",
      "Epoch 75/90\n",
      "5/5 [==============================] - 0s 48ms/step - loss: 0.0017\n",
      "Epoch 76/90\n",
      "5/5 [==============================] - 0s 12ms/step - loss: 0.0014\n",
      "Epoch 77/90\n",
      "5/5 [==============================] - 0s 49ms/step - loss: 0.0022\n",
      "Epoch 78/90\n",
      "5/5 [==============================] - 0s 15ms/step - loss: 0.0027\n",
      "Epoch 79/90\n",
      "5/5 [==============================] - 0s 46ms/step - loss: 0.0014\n",
      "Epoch 80/90\n",
      "5/5 [==============================] - 0s 13ms/step - loss: 0.0015\n",
      "Epoch 81/90\n",
      "5/5 [==============================] - 0s 39ms/step - loss: 0.0011\n",
      "Epoch 82/90\n",
      "5/5 [==============================] - 0s 21ms/step - loss: 0.0013\n",
      "Epoch 83/90\n",
      "5/5 [==============================] - 0s 35ms/step - loss: 0.0012\n",
      "Epoch 84/90\n",
      "5/5 [==============================] - 0s 36ms/step - loss: 0.0011\n",
      "Epoch 85/90\n",
      "5/5 [==============================] - 0s 26ms/step - loss: 9.2119e-04\n",
      "Epoch 86/90\n",
      "5/5 [==============================] - 0s 35ms/step - loss: 8.0936e-04\n",
      "Epoch 87/90\n",
      "5/5 [==============================] - 0s 25ms/step - loss: 0.0011\n",
      "Epoch 88/90\n",
      "5/5 [==============================] - 0s 24ms/step - loss: 5.8603e-04\n",
      "Epoch 89/90\n",
      "5/5 [==============================] - 0s 48ms/step - loss: 0.0014\n",
      "Epoch 90/90\n",
      "5/5 [==============================] - 0s 14ms/step - loss: 8.7025e-04\n"
     ]
    },
    {
     "data": {
      "text/plain": [
       "<keras.callbacks.History at 0x1b340f66a20>"
      ]
     },
     "execution_count": 190,
     "metadata": {},
     "output_type": "execute_result"
    }
   ],
   "source": [
    "#hide\n",
    "model.fit_generator(generator,epochs=90)"
   ]
  },
  {
   "cell_type": "markdown",
   "metadata": {},
   "source": [
    "### Loss"
   ]
  },
  {
   "cell_type": "code",
   "execution_count": 191,
   "metadata": {},
   "outputs": [
    {
     "data": {
      "image/png": "[encoded data removed]",
      "text/plain": [
       "<Figure size 864x288 with 1 Axes>"
      ]
     },
     "metadata": {
      "needs_background": "light"
     },
     "output_type": "display_data"
    }
   ],
   "source": [
    "#hide_input\n",
    "losses_lstm = model.history.history['loss']\n",
    "plt.figure(figsize=(12,4))\n",
    "plt.xlabel(\"Epochs\")\n",
    "plt.ylabel(\"Loss\")\n",
    "plt.xticks(np.arange(0,21,1))\n",
    "plt.plot(range(len(losses_lstm)),losses_lstm);"
   ]
  },
  {
   "cell_type": "code",
   "execution_count": 164,
   "metadata": {},
   "outputs": [],
   "source": [
    "#hide\n",
    "pred_list = []\n",
    "\n",
    "batch = train[-n_input:].reshape((1, n_input, n_features))\n",
    "\n",
    "for i in range(n_input):   \n",
    "    pred_list.append(model.predict(batch)[0]) \n",
    "    batch = np.append(batch[:,1:,:],[[pred_list[i]]],axis=1)"
   ]
  },
  {
   "cell_type": "code",
   "execution_count": 165,
   "metadata": {},
   "outputs": [],
   "source": [
    "#hide\n",
    "df_predict = pd.DataFrame(scaler.inverse_transform(pred_list),\n",
    "                          index=df[-n_input:].index, columns=['Prediction'])\n",
    "\n",
    "df_test = pd.concat([df,df_predict], axis=1)"
   ]
  },
  {
   "cell_type": "markdown",
   "metadata": {},
   "source": [
    "### Test"
   ]
  },
  {
   "cell_type": "code",
   "execution_count": 166,
   "metadata": {},
   "outputs": [
    {
     "name": "stderr",
     "output_type": "stream",
     "text": [
      "No handles with labels found to put in legend.\n"
     ]
    },
    {
     "data": {
      "image/png": "[encoded data removed]",
      "text/plain": [
       "<Figure size 1440x360 with 1 Axes>"
      ]
     },
     "metadata": {
      "needs_background": "light"
     },
     "output_type": "display_data"
    }
   ],
   "source": [
    "#hide_input\n",
    "plt.figure(figsize=(20, 5))\n",
    "plt.plot(df_test.index, df_test['Confirmed'])\n",
    "plt.plot(df_test.index, df_test['Prediction'], color='r')\n",
    "plt.legend(loc='best', fontsize='xx-large')\n",
    "plt.xticks(fontsize=18)\n",
    "plt.yticks(fontsize=16)\n",
    "plt.show()"
   ]
  },
  {
   "cell_type": "code",
   "execution_count": 167,
   "metadata": {},
   "outputs": [
    {
     "name": "stdout",
     "output_type": "stream",
     "text": [
      "rmse:  [654.94856416]\n"
     ]
    }
   ],
   "source": [
    "#hide_input\n",
    "pred_actual_rmse = rmse(df_test.iloc[-n_input:, [0]], df_test.iloc[-n_input:, [1]])\n",
    "print(\"rmse: \", pred_actual_rmse)"
   ]
  },
  {
   "cell_type": "code",
   "execution_count": 196,
   "metadata": {},
   "outputs": [
    {
     "data": {
      "text/html": [
       "<div>\n",
       "<style scoped>\n",
       "    .dataframe tbody tr th:only-of-type {\n",
       "        vertical-align: middle;\n",
       "    }\n",
       "\n",
       "    .dataframe tbody tr th {\n",
       "        vertical-align: top;\n",
       "    }\n",
       "\n",
       "    .dataframe thead th {\n",
       "        text-align: right;\n",
       "    }\n",
       "</style>\n",
       "<table border=\"1\" class=\"dataframe\">\n",
       "  <thead>\n",
       "    <tr style=\"text-align: right;\">\n",
       "      <th></th>\n",
       "      <th>Confirmed</th>\n",
       "      <th>Prediction</th>\n",
       "    </tr>\n",
       "    <tr>\n",
       "      <th>Last_Update</th>\n",
       "      <th></th>\n",
       "      <th></th>\n",
       "    </tr>\n",
       "  </thead>\n",
       "  <tbody>\n",
       "    <tr>\n",
       "      <th>2020-04-01 00:00:00</th>\n",
       "      <td>1054</td>\n",
       "      <td>1650.927354</td>\n",
       "    </tr>\n",
       "    <tr>\n",
       "      <th>2020-04-02 00:00:00</th>\n",
       "      <td>1133</td>\n",
       "      <td>1771.818382</td>\n",
       "    </tr>\n",
       "    <tr>\n",
       "      <th>2020-04-03 00:00:00</th>\n",
       "      <td>1265</td>\n",
       "      <td>1905.527952</td>\n",
       "    </tr>\n",
       "    <tr>\n",
       "      <th>2020-04-04 00:00:00</th>\n",
       "      <td>1451</td>\n",
       "      <td>2038.174493</td>\n",
       "    </tr>\n",
       "    <tr>\n",
       "      <th>2020-04-05 00:00:00</th>\n",
       "      <td>1451</td>\n",
       "      <td>2151.895173</td>\n",
       "    </tr>\n",
       "    <tr>\n",
       "      <th>2020-04-06 22:11:18</th>\n",
       "      <td>1554</td>\n",
       "      <td>2304.353619</td>\n",
       "    </tr>\n",
       "  </tbody>\n",
       "</table>\n",
       "</div>"
      ],
      "text/plain": [
       "                     Confirmed   Prediction\n",
       "Last_Update                                \n",
       "2020-04-01 00:00:00       1054  1650.927354\n",
       "2020-04-02 00:00:00       1133  1771.818382\n",
       "2020-04-03 00:00:00       1265  1905.527952\n",
       "2020-04-04 00:00:00       1451  2038.174493\n",
       "2020-04-05 00:00:00       1451  2151.895173\n",
       "2020-04-06 22:11:18       1554  2304.353619"
      ]
     },
     "execution_count": 196,
     "metadata": {},
     "output_type": "execute_result"
    }
   ],
   "source": [
    "#hide_input\n",
    "df_test[-6:]"
   ]
  },
  {
   "cell_type": "code",
   "execution_count": 169,
   "metadata": {},
   "outputs": [],
   "source": [
    "#hide\n",
    "train = df\n",
    "scaler.fit(train)\n",
    "train = scaler.transform(train)"
   ]
  },
  {
   "cell_type": "code",
   "execution_count": 172,
   "metadata": {},
   "outputs": [],
   "source": [
    "#hide\n",
    "n_input = n_input\n",
    "n_features = 1\n",
    "generator = TimeseriesGenerator(train, train, length=n_input, batch_size=6)"
   ]
  },
  {
   "cell_type": "code",
   "execution_count": 173,
   "metadata": {},
   "outputs": [
    {
     "name": "stdout",
     "output_type": "stream",
     "text": [
      "Epoch 1/90\n",
      "5/5 [==============================] - 0s 10ms/step - loss: 0.0013\n",
      "Epoch 2/90\n",
      "5/5 [==============================] - 0s 41ms/step - loss: 0.0010\n",
      "Epoch 3/90\n",
      "5/5 [==============================] - 0s 21ms/step - loss: 0.0013\n",
      "Epoch 4/90\n",
      "5/5 [==============================] - 0s 43ms/step - loss: 8.2359e-04\n",
      "Epoch 5/90\n",
      "5/5 [==============================] - 0s 17ms/step - loss: 0.0015\n",
      "Epoch 6/90\n",
      "5/5 [==============================] - 0s 40ms/step - loss: 0.0011\n",
      "Epoch 7/90\n",
      "5/5 [==============================] - 0s 20ms/step - loss: 9.8133e-04\n",
      "Epoch 8/90\n",
      "5/5 [==============================] - 0s 43ms/step - loss: 0.0019\n",
      "Epoch 9/90\n",
      "5/5 [==============================] - 0s 18ms/step - loss: 0.0020\n",
      "Epoch 10/90\n",
      "5/5 [==============================] - 0s 38ms/step - loss: 0.0033\n",
      "Epoch 11/90\n",
      "5/5 [==============================] - 0s 22ms/step - loss: 0.0015\n",
      "Epoch 12/90\n",
      "5/5 [==============================] - 0s 49ms/step - loss: 0.0018\n",
      "Epoch 13/90\n",
      "5/5 [==============================] - 0s 12ms/step - loss: 0.0012\n",
      "Epoch 14/90\n",
      "5/5 [==============================] - 0s 37ms/step - loss: 0.0018\n",
      "Epoch 15/90\n",
      "5/5 [==============================] - 0s 22ms/step - loss: 9.5206e-04\n",
      "Epoch 16/90\n",
      "5/5 [==============================] - 0s 42ms/step - loss: 0.0011\n",
      "Epoch 17/90\n",
      "5/5 [==============================] - 0s 18ms/step - loss: 0.0019\n",
      "Epoch 18/90\n",
      "5/5 [==============================] - 0s 41ms/step - loss: 0.0013\n",
      "Epoch 19/90\n",
      "5/5 [==============================] - 0s 17ms/step - loss: 0.0024\n",
      "Epoch 20/90\n",
      "5/5 [==============================] - 0s 43ms/step - loss: 0.0020\n",
      "Epoch 21/90\n",
      "5/5 [==============================] - 0s 18ms/step - loss: 0.0014\n",
      "Epoch 22/90\n",
      "5/5 [==============================] - 0s 36ms/step - loss: 0.0014\n",
      "Epoch 23/90\n",
      "5/5 [==============================] - 0s 28ms/step - loss: 0.0011\n",
      "Epoch 24/90\n",
      "5/5 [==============================] - 0s 39ms/step - loss: 7.8955e-04\n",
      "Epoch 25/90\n",
      "5/5 [==============================] - 0s 15ms/step - loss: 0.0014\n",
      "Epoch 26/90\n",
      "5/5 [==============================] - 0s 43ms/step - loss: 0.0016\n",
      "Epoch 27/90\n",
      "5/5 [==============================] - 0s 20ms/step - loss: 0.0025\n",
      "Epoch 28/90\n",
      "5/5 [==============================] - 0s 40ms/step - loss: 0.0010\n",
      "Epoch 29/90\n",
      "5/5 [==============================] - 0s 21ms/step - loss: 0.0017\n",
      "Epoch 30/90\n",
      "5/5 [==============================] - 0s 38ms/step - loss: 9.9169e-04\n",
      "Epoch 31/90\n",
      "5/5 [==============================] - 0s 20ms/step - loss: 8.4223e-04\n",
      "Epoch 32/90\n",
      "5/5 [==============================] - 0s 49ms/step - loss: 9.3443e-04\n",
      "Epoch 33/90\n",
      "5/5 [==============================] - 0s 13ms/step - loss: 0.0014\n",
      "Epoch 34/90\n",
      "5/5 [==============================] - 0s 48ms/step - loss: 0.0022\n",
      "Epoch 35/90\n",
      "5/5 [==============================] - 0s 13ms/step - loss: 0.0010\n",
      "Epoch 36/90\n",
      "5/5 [==============================] - 0s 49ms/step - loss: 8.9084e-04\n",
      "Epoch 37/90\n",
      "5/5 [==============================] - 0s 14ms/step - loss: 0.0015\n",
      "Epoch 38/90\n",
      "5/5 [==============================] - 0s 48ms/step - loss: 0.0017\n",
      "Epoch 39/90\n",
      "5/5 [==============================] - 0s 14ms/step - loss: 8.1859e-04\n",
      "Epoch 40/90\n",
      "5/5 [==============================] - 0s 45ms/step - loss: 0.0014\n",
      "Epoch 41/90\n",
      "5/5 [==============================] - 0s 13ms/step - loss: 0.0019\n",
      "Epoch 42/90\n",
      "5/5 [==============================] - 0s 50ms/step - loss: 0.0010\n",
      "Epoch 43/90\n",
      "5/5 [==============================] - 0s 11ms/step - loss: 0.0013\n",
      "Epoch 44/90\n",
      "5/5 [==============================] - 0s 51ms/step - loss: 0.0022\n",
      "Epoch 45/90\n",
      "5/5 [==============================] - 0s 12ms/step - loss: 0.0020\n",
      "Epoch 46/90\n",
      "5/5 [==============================] - 0s 51ms/step - loss: 0.0040\n",
      "Epoch 47/90\n",
      "5/5 [==============================] - 0s 34ms/step - loss: 0.0037\n",
      "Epoch 48/90\n",
      "5/5 [==============================] - 0s 41ms/step - loss: 0.0011\n",
      "Epoch 49/90\n",
      "5/5 [==============================] - 0s 14ms/step - loss: 0.0026\n",
      "Epoch 50/90\n",
      "5/5 [==============================] - 0s 46ms/step - loss: 0.0014\n",
      "Epoch 51/90\n",
      "5/5 [==============================] - 0s 11ms/step - loss: 0.0011\n",
      "Epoch 52/90\n",
      "5/5 [==============================] - 0s 55ms/step - loss: 0.0013\n",
      "Epoch 53/90\n",
      "5/5 [==============================] - 0s 26ms/step - loss: 9.5595e-04\n",
      "Epoch 54/90\n",
      "5/5 [==============================] - 0s 39ms/step - loss: 6.7027e-04\n",
      "Epoch 55/90\n",
      "5/5 [==============================] - 0s 21ms/step - loss: 0.0021\n",
      "Epoch 56/90\n",
      "5/5 [==============================] - 0s 39ms/step - loss: 0.0016\n",
      "Epoch 57/90\n",
      "5/5 [==============================] - 0s 21ms/step - loss: 5.1696e-04\n",
      "Epoch 58/90\n",
      "5/5 [==============================] - 0s 38ms/step - loss: 0.0011\n",
      "Epoch 59/90\n",
      "5/5 [==============================] - 0s 24ms/step - loss: 0.0016\n",
      "Epoch 60/90\n",
      "5/5 [==============================] - 0s 41ms/step - loss: 0.0026\n",
      "Epoch 61/90\n",
      "5/5 [==============================] - 0s 19ms/step - loss: 0.0014\n",
      "Epoch 62/90\n",
      "5/5 [==============================] - 0s 47ms/step - loss: 0.0015\n",
      "Epoch 63/90\n",
      "5/5 [==============================] - 0s 15ms/step - loss: 0.0011\n",
      "Epoch 64/90\n",
      "5/5 [==============================] - 0s 49ms/step - loss: 0.0019\n",
      "Epoch 65/90\n",
      "5/5 [==============================] - 0s 14ms/step - loss: 9.2377e-04\n",
      "Epoch 66/90\n",
      "5/5 [==============================] - 0s 43ms/step - loss: 0.0018\n",
      "Epoch 67/90\n",
      "5/5 [==============================] - 0s 15ms/step - loss: 7.9321e-04\n",
      "Epoch 68/90\n",
      "5/5 [==============================] - 0s 47ms/step - loss: 0.0024\n",
      "Epoch 69/90\n",
      "5/5 [==============================] - 0s 18ms/step - loss: 0.0013\n",
      "Epoch 70/90\n",
      "5/5 [==============================] - 0s 32ms/step - loss: 0.0017\n",
      "Epoch 71/90\n",
      "5/5 [==============================] - 0s 20ms/step - loss: 0.0016\n",
      "Epoch 72/90\n",
      "5/5 [==============================] - 0s 43ms/step - loss: 0.0016\n",
      "Epoch 73/90\n",
      "5/5 [==============================] - 0s 18ms/step - loss: 7.3104e-04\n",
      "Epoch 74/90\n",
      "5/5 [==============================] - 0s 46ms/step - loss: 0.0024\n",
      "Epoch 75/90\n",
      "5/5 [==============================] - 0s 14ms/step - loss: 6.0869e-04\n",
      "Epoch 76/90\n",
      "5/5 [==============================] - 0s 47ms/step - loss: 0.0010\n",
      "Epoch 77/90\n",
      "5/5 [==============================] - 0s 18ms/step - loss: 8.7190e-04\n",
      "Epoch 78/90\n",
      "5/5 [==============================] - 0s 32ms/step - loss: 6.2939e-04\n",
      "Epoch 79/90\n",
      "5/5 [==============================] - 0s 21ms/step - loss: 7.1775e-04\n",
      "Epoch 80/90\n",
      "5/5 [==============================] - 0s 40ms/step - loss: 0.0011\n",
      "Epoch 81/90\n",
      "5/5 [==============================] - 0s 20ms/step - loss: 9.0802e-04\n",
      "Epoch 82/90\n",
      "5/5 [==============================] - 0s 49ms/step - loss: 7.8731e-04\n",
      "Epoch 83/90\n",
      "5/5 [==============================] - 0s 16ms/step - loss: 0.0013\n",
      "Epoch 84/90\n",
      "5/5 [==============================] - 0s 33ms/step - loss: 0.0014\n",
      "Epoch 85/90\n",
      "5/5 [==============================] - 0s 21ms/step - loss: 0.0020\n",
      "Epoch 86/90\n",
      "5/5 [==============================] - 0s 51ms/step - loss: 0.0013\n",
      "Epoch 87/90\n",
      "5/5 [==============================] - 0s 14ms/step - loss: 0.0010\n",
      "Epoch 88/90\n",
      "5/5 [==============================] - 0s 43ms/step - loss: 0.0011\n",
      "Epoch 89/90\n",
      "5/5 [==============================] - 0s 14ms/step - loss: 0.0017\n",
      "Epoch 90/90\n",
      "5/5 [==============================] - 0s 49ms/step - loss: 8.6307e-04\n"
     ]
    },
    {
     "data": {
      "text/plain": [
       "<keras.callbacks.History at 0x1b33b165a20>"
      ]
     },
     "execution_count": 173,
     "metadata": {},
     "output_type": "execute_result"
    }
   ],
   "source": [
    "#hide\n",
    "model.fit_generator(generator,epochs=90)"
   ]
  },
  {
   "cell_type": "code",
   "execution_count": 183,
   "metadata": {},
   "outputs": [],
   "source": [
    "#hide\n",
    "pred_list = []\n",
    "\n",
    "batch = train[-n_input:].reshape((1, n_input, n_features))\n",
    "\n",
    "for i in range(n_input):   \n",
    "    pred_list.append(model.predict(batch)[0]) \n",
    "    batch = np.append(batch[:,1:,:],[[pred_list[i]]],axis=1)"
   ]
  },
  {
   "cell_type": "code",
   "execution_count": 184,
   "metadata": {},
   "outputs": [],
   "source": [
    "#hide\n",
    "from pandas.tseries.offsets import DateOffset\n",
    "add_dates = [df.index[-1] + DateOffset(day=x) for x in range(0,13) ]\n",
    "future_dates = pd.DataFrame(index=add_dates[1:],columns=df.columns)"
   ]
  },
  {
   "cell_type": "code",
   "execution_count": 185,
   "metadata": {},
   "outputs": [],
   "source": [
    "#hide\n",
    "df_predict = pd.DataFrame(scaler.inverse_transform(pred_list),\n",
    "                          index=future_dates[-n_input:].index, columns=['Prediction'])\n",
    "\n",
    "df_proj = pd.concat([df,df_predict], axis=1)"
   ]
  },
  {
   "cell_type": "markdown",
   "metadata": {},
   "source": [
    "### Proyección diaria"
   ]
  },
  {
   "cell_type": "code",
   "execution_count": 186,
   "metadata": {},
   "outputs": [
    {
     "name": "stderr",
     "output_type": "stream",
     "text": [
      "No handles with labels found to put in legend.\n"
     ]
    },
    {
     "data": {
      "image/png": "[encoded data removed]",
      "text/plain": [
       "<Figure size 1440x360 with 1 Axes>"
      ]
     },
     "metadata": {
      "needs_background": "light"
     },
     "output_type": "display_data"
    }
   ],
   "source": [
    "#hide_input\n",
    "plt.figure(figsize=(20, 5))\n",
    "plt.plot(df_proj.index, df_proj['Confirmed'])\n",
    "plt.plot(df_test.index, df_test['Prediction'], color='g')\n",
    "plt.plot(df_proj.index, df_proj['Prediction'], color='r')\n",
    "plt.legend(loc='best', fontsize='xx-large')\n",
    "plt.xticks(fontsize=18)\n",
    "plt.yticks(fontsize=16)\n",
    "plt.show()"
   ]
  },
  {
   "cell_type": "code",
   "execution_count": 187,
   "metadata": {},
   "outputs": [
    {
     "data": {
      "text/html": [
       "<div>\n",
       "<style scoped>\n",
       "    .dataframe tbody tr th:only-of-type {\n",
       "        vertical-align: middle;\n",
       "    }\n",
       "\n",
       "    .dataframe tbody tr th {\n",
       "        vertical-align: top;\n",
       "    }\n",
       "\n",
       "    .dataframe thead th {\n",
       "        text-align: right;\n",
       "    }\n",
       "</style>\n",
       "<table border=\"1\" class=\"dataframe\">\n",
       "  <thead>\n",
       "    <tr style=\"text-align: right;\">\n",
       "      <th></th>\n",
       "      <th>Prediction</th>\n",
       "    </tr>\n",
       "  </thead>\n",
       "  <tbody>\n",
       "    <tr>\n",
       "      <th>2020-04-07 22:11:18</th>\n",
       "      <td>1677.732435</td>\n",
       "    </tr>\n",
       "    <tr>\n",
       "      <th>2020-04-08 22:11:18</th>\n",
       "      <td>1792.521696</td>\n",
       "    </tr>\n",
       "    <tr>\n",
       "      <th>2020-04-09 22:11:18</th>\n",
       "      <td>1917.180347</td>\n",
       "    </tr>\n",
       "    <tr>\n",
       "      <th>2020-04-10 22:11:18</th>\n",
       "      <td>2040.406445</td>\n",
       "    </tr>\n",
       "    <tr>\n",
       "      <th>2020-04-11 22:11:18</th>\n",
       "      <td>2146.625020</td>\n",
       "    </tr>\n",
       "    <tr>\n",
       "      <th>2020-04-12 22:11:18</th>\n",
       "      <td>2283.759532</td>\n",
       "    </tr>\n",
       "  </tbody>\n",
       "</table>\n",
       "</div>"
      ],
      "text/plain": [
       "                      Prediction\n",
       "2020-04-07 22:11:18  1677.732435\n",
       "2020-04-08 22:11:18  1792.521696\n",
       "2020-04-09 22:11:18  1917.180347\n",
       "2020-04-10 22:11:18  2040.406445\n",
       "2020-04-11 22:11:18  2146.625020\n",
       "2020-04-12 22:11:18  2283.759532"
      ]
     },
     "execution_count": 187,
     "metadata": {},
     "output_type": "execute_result"
    }
   ],
   "source": [
    "#hide_input\n",
    "df_predict"
   ]
  },
  {
   "cell_type": "code",
   "execution_count": null,
   "metadata": {},
   "outputs": [],
   "source": []
  },
  {
   "cell_type": "code",
   "execution_count": null,
   "metadata": {},
   "outputs": [],
   "source": []
  }
 ],
 "metadata": {
  "kernelspec": {
   "display_name": "Python 3",
   "language": "python",
   "name": "python3"
  },
  "language_info": {
   "codemirror_mode": {
    "name": "ipython",
    "version": 3
   },
   "file_extension": ".py",
   "mimetype": "text/x-python",
   "name": "python",
   "nbconvert_exporter": "python",
   "pygments_lexer": "ipython3",
   "version": "3.7.1"
  }
 },
 "nbformat": 4,
 "nbformat_minor": 2
}
